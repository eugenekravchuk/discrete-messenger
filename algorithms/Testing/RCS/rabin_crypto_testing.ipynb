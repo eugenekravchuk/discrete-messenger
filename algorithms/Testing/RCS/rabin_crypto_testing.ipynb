{
 "cells": [
  {
   "cell_type": "code",
   "execution_count": 3,
   "metadata": {},
   "outputs": [],
   "source": [
    "from RCS import RCS\n",
    "import time\n",
    "import tracemalloc"
   ]
  },
  {
   "cell_type": "code",
   "execution_count": 4,
   "metadata": {},
   "outputs": [],
   "source": [
    "def measure_time(func, *args):\n",
    "    start_time = time.time()\n",
    "    result = func(*args)\n",
    "    end_time = time.time()\n",
    "    execution_time = end_time - start_time\n",
    "    return result, execution_time"
   ]
  },
  {
   "cell_type": "code",
   "execution_count": 6,
   "metadata": {},
   "outputs": [
    {
     "name": "stdout",
     "output_type": "stream",
     "text": [
      "9075477932386863277916014596154746359418882366136872174714476831446936330980851509226418309905949610740975828772102915905625707550122461283269172310621675966308672961046426219126542730878787321078269905181212417990812765595200919995633464647373794621377244764266530839221607900838836098052995010540698291590201165836135760120727884887819375385327889081501861121122740261586574797539540766594260015545065141886929610266452108883340753232555865052125167339826973556657839714168626428800138502851926013843336092328157093026765058746811589519061783317829031904515297387884733339365579497409776480111347730816605155723389 (55031687894966878141406427045791808928785118913431184062563333899634515407302844792601692326110188759371094331131831190928424849665864317784993471185516464571364885131700046087456010541468720917224941541119929287324873361356620838659804392382120405865226770521454692613679447771534294110205910101455786163647, 164913675730031422569065851854534024311558302495190879312787900392186279275400546984009553722964229521711371757011983913849900023095029673393567164948195438021984681833595628821907153253794929779047523537538645308864995335469555384212037014325143687425676535675589905782056724454058348998654757132946275336387)\n",
      "The time used to generate keys: 1.9085009098052979s\n",
      "The memory used to create keys: 3.619821548461914 MB\n"
     ]
    }
   ],
   "source": [
    "\n",
    "with open(\"zapovit.txt\", 'r', encoding=\"utf-8\") as file:\n",
    "    small_text = file.read()\n",
    "with open(\"kateryna.txt\", 'r', encoding=\"utf-8\") as file:\n",
    "    medium_text = file.read()\n",
    "with open(\"tygrolovy.txt\", 'r', encoding=\"utf-8\") as file:\n",
    "    big_text = file.read()\n",
    "\n",
    "\n",
    "\n",
    "rcs = RCS()\n",
    "tracemalloc.start()\n",
    "(n, p, q), time_used = measure_time(rcs.generate_keypair, 1024)\n",
    "memory_usage = tracemalloc.get_traced_memory()[1] / (1024 ** 2)\n",
    "tracemalloc.clear_traces()\n",
    "public_key = n\n",
    "private_key = (p, q)\n",
    "print(public_key, private_key)\n",
    "print(f'The time used to generate keys: {time_used}s')\n",
    "print(f'The memory used to create keys: {memory_usage} MB')\n"
   ]
  },
  {
   "cell_type": "markdown",
   "metadata": {},
   "source": [
    "Результати тестування ефективності алгоритму на текстових файлах різних розмірів:"
   ]
  },
  {
   "cell_type": "code",
   "execution_count": 17,
   "metadata": {},
   "outputs": [
    {
     "name": "stdout",
     "output_type": "stream",
     "text": [
      "The time used for encoding small text is 0.00035500526428222656, memory - 4.095754623413086 MB\n",
      "The time used for decoding small text is 0.30039000511169434, memory - 0.05941486358642578 MB\n",
      "The time used for encoding medium text is 0.0035390853881835938, memory - 0.08121204376220703 MB\n",
      "The time used for decoding medium text is 9.029640913009644, memory - 0.11035537719726562 MB\n",
      "The time used for encoding big text is 0.09978699684143066, memory - 2.188875198364258 MB\n",
      "The time used for decoding big text is 249.3862841129303, memory - 2.3940658569335938 MB\n"
     ]
    }
   ],
   "source": [
    "for text1 in [(small_text, 'small'), (medium_text, 'medium'), (big_text, 'big')]:\n",
    "    text, name = text1\n",
    "    tracemalloc.start()\n",
    "    encoded_result, encoding_time = measure_time(rcs.encrypt, text, public_key)\n",
    "    encoding_memory_usage = tracemalloc.get_traced_memory()[1] / (1024 ** 2)  # Переведення в мегабайти\n",
    "    tracemalloc.clear_traces()\n",
    "    tracemalloc.start()\n",
    "    decoded_result, decoding_time = measure_time(rcs.decrypt, encoded_result, *private_key, public_key)\n",
    "    decoding_memory_usage = tracemalloc.get_traced_memory()[1] / (1024 ** 2)  # Переведення в мегабайти\n",
    "    tracemalloc.clear_traces()\n",
    "    print(f\"The time used for encoding {name} text is {encoding_time}, memory - {encoding_memory_usage} MB\")\n",
    "    print(f\"The time used for decoding {name} text is {decoding_time}, memory - {decoding_memory_usage} MB\")"
   ]
  },
  {
   "cell_type": "markdown",
   "metadata": {},
   "source": [
    "Тестування затрат часу та пам'яті на кодування та розкодування картинок"
   ]
  },
  {
   "cell_type": "code",
   "execution_count": 7,
   "metadata": {},
   "outputs": [],
   "source": [
    "from encode_photo import encode_image_to_base64\n",
    "from decode_photo import decode_base64_file_to_image\n",
    "\n",
    "small_photo_encoded = encode_image_to_base64('very_small_image.jpeg')\n",
    "large_photo_encoded = encode_image_to_base64('photo.jpg')"
   ]
  },
  {
   "cell_type": "code",
   "execution_count": 9,
   "metadata": {},
   "outputs": [
    {
     "name": "stdout",
     "output_type": "stream",
     "text": [
      "The time used for encoding small photo is 0.0036325454711914062, memory - 0.22537994384765625 MB\n",
      "The time used for decoding small photo is 22.216952800750732, memory - 0.14954185485839844 MB\n",
      "The time used for encoding large photo is 0.0, memory - 0.5062580108642578 MB\n",
      "The time used for decoding large photo is 54.513474464416504, memory - 0.5631113052368164 MB\n"
     ]
    }
   ],
   "source": [
    "for file, name in [(small_photo_encoded, 'small'), (large_photo_encoded, 'large')]:\n",
    "    tracemalloc.start()\n",
    "    encoded_result, encoding_time = measure_time(rcs.encrypt, file, public_key)\n",
    "    encoding_memory_usage = tracemalloc.get_traced_memory()[1] / (1024 ** 2)  # Переведення в мегабайти\n",
    "    tracemalloc.clear_traces()\n",
    "    tracemalloc.start()\n",
    "    decoded_result, decoding_time = measure_time(rcs.decrypt, encoded_result, *private_key, public_key)\n",
    "    decoding_memory_usage = tracemalloc.get_traced_memory()[1] / (1024 ** 2)  # Переведення в мегабайти\n",
    "    tracemalloc.clear_traces()\n",
    "    print(f\"The time used for encoding {name} photo is {encoding_time}, memory - {encoding_memory_usage} MB\")\n",
    "    print(f\"The time used for decoding {name} photo is {decoding_time}, memory - {decoding_memory_usage} MB\")"
   ]
  }
 ],
 "metadata": {
  "kernelspec": {
   "display_name": "Python 3",
   "language": "python",
   "name": "python3"
  },
  "language_info": {
   "codemirror_mode": {
    "name": "ipython",
    "version": 3
   },
   "file_extension": ".py",
   "mimetype": "text/x-python",
   "name": "python",
   "nbconvert_exporter": "python",
   "pygments_lexer": "ipython3",
   "version": "3.11.5"
  }
 },
 "nbformat": 4,
 "nbformat_minor": 2
}
