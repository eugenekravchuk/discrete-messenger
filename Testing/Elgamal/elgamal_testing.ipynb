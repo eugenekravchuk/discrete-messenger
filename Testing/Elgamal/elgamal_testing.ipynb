{
 "cells": [
  {
   "cell_type": "code",
   "execution_count": 28,
   "metadata": {},
   "outputs": [],
   "source": [
    "from Elgamal import Elgamal, ElgamalBig\n",
    "import time\n",
    "import tracemalloc"
   ]
  },
  {
   "cell_type": "code",
   "execution_count": 29,
   "metadata": {},
   "outputs": [],
   "source": [
    "def measure_time(func, *args):\n",
    "    start_time = time.time()\n",
    "    result = func(*args)\n",
    "    end_time = time.time()\n",
    "    execution_time = end_time - start_time\n",
    "    return result, execution_time"
   ]
  },
  {
   "cell_type": "code",
   "execution_count": 30,
   "metadata": {},
   "outputs": [],
   "source": [
    "def measure_time_decode(func, enc_text, private_key, public_key):\n",
    "    start_time = time.time()\n",
    "    result = func(enc_text, private_key, public_key)\n",
    "    end_time = time.time()\n",
    "    execution_time = end_time - start_time\n",
    "    return result, execution_time"
   ]
  },
  {
   "cell_type": "code",
   "execution_count": 31,
   "metadata": {},
   "outputs": [
    {
     "name": "stdout",
     "output_type": "stream",
     "text": [
      "(29657099953955114013088582898737391720462265288034579975530845521445661768411085195837037976997505637371685754482455938807184053209070380022042304993129609223641821112889077790567044561771668689877424020869211054656204074756229928219225482168818209410012615502960925613344341246507781842851611835713646734850700880129102733495351800229725622804920136273024450766185661420131475210430463825183216869993650934991633148630256811050235321437665971616455870246018664384578516951706867433173652106206110585553566655520058197923008188424682115649813648883738183683853106065860155342964838031634609146882907742485165906751123, 13084487121856860641552073579445652803244407652295056188264409216991649156958928005772028345342857410372620009988415628725656174199327280219631419592744117, 5153253381136295489510408541566119134827744031665215631953355728135211222672644935243081855918995213614956914660266357464710335545805737842245211882248886130749921843564020479297353468996172934738758112169779683192625939848281082035513871269343336409536583199251412655608052592305985614890950462545271201010382613832504505251873765561564244561738657794539504403261652948742195724595772614953149206181579875995122928396962918532423297897955621567533288486948151358319702340693763810804286299142067475838384018343979936603247566046537054569453997152860915851367921023139706744281144508037148357228281710696910000658385) 68956441555917650342027513833139597080439717945929284095906227193045776504081\n",
      "The time used to generate keys: 0.6861498355865479s\n",
      "The memory used to create keys: 4.993078231811523 MB\n"
     ]
    }
   ],
   "source": [
    "\n",
    "with open(\"zapovit.txt\", 'r', encoding=\"utf-8\") as file:\n",
    "    small_text = file.read()\n",
    "with open(\"kateryna.txt\", 'r', encoding=\"utf-8\") as file:\n",
    "    medium_text = file.read()\n",
    "with open(\"tygrolovy.txt\", 'r', encoding=\"utf-8\") as file:\n",
    "    big_text = file.read()\n",
    "\n",
    "\n",
    "\n",
    "el = ElgamalBig()\n",
    "tracemalloc.start()\n",
    "(public_key, private_key), time = measure_time(el.generate_keys)\n",
    "memory_usage = tracemalloc.get_traced_memory()[1] / (1024 ** 2)\n",
    "tracemalloc.clear_traces()\n",
    "print(public_key, private_key)\n",
    "print(f'The time used to generate keys: {time}s')\n",
    "print(f'The memory used to create keys: {memory_usage} MB')\n"
   ]
  },
  {
   "cell_type": "markdown",
   "metadata": {},
   "source": [
    "Результати тестування еіективності алгоритму на текстових файлах різних розмірів:"
   ]
  },
  {
   "cell_type": "code",
   "execution_count": 15,
   "metadata": {},
   "outputs": [
    {
     "name": "stdout",
     "output_type": "stream",
     "text": [
      "Correctness: True\n",
      "The time used for encoding small text is 0.5002198219299316, memory - 2.650509834289551 MB\n",
      "The time used for decoding small text is 0.04553699493408203, memory - 0.007800102233886719 MB\n",
      "Correctness: True\n",
      "The time used for encoding medium text is 1.5568153858184814, memory - 0.04699516296386719 MB\n",
      "The time used for decoding medium text is 1.3722612857818604, memory - 0.07665824890136719 MB\n",
      "Cannot decode the message. The encrypted message may have been tampered with.\n",
      "Correctness: False\n",
      "The time used for encoding big text is 40.58422350883484, memory - 1.2032785415649414 MB\n",
      "The time used for decoding big text is 36.977336168289185, memory - 1.197866439819336 MB\n"
     ]
    },
    {
     "ename": "TypeError",
     "evalue": "write() argument must be str, not None",
     "output_type": "error",
     "traceback": [
      "\u001b[1;31m---------------------------------------------------------------------------\u001b[0m",
      "\u001b[1;31mTypeError\u001b[0m                                 Traceback (most recent call last)",
      "Cell \u001b[1;32mIn[15], line 17\u001b[0m\n\u001b[0;32m     15\u001b[0m     \u001b[38;5;28mprint\u001b[39m(\u001b[38;5;124mf\u001b[39m\u001b[38;5;124m\"\u001b[39m\u001b[38;5;124mThe time used for decoding \u001b[39m\u001b[38;5;132;01m{\u001b[39;00mname\u001b[38;5;132;01m}\u001b[39;00m\u001b[38;5;124m text is \u001b[39m\u001b[38;5;132;01m{\u001b[39;00mdecoding_time\u001b[38;5;132;01m}\u001b[39;00m\u001b[38;5;124m, memory - \u001b[39m\u001b[38;5;132;01m{\u001b[39;00mdecoding_memory_usage\u001b[38;5;132;01m}\u001b[39;00m\u001b[38;5;124m MB\u001b[39m\u001b[38;5;124m\"\u001b[39m)\n\u001b[0;32m     16\u001b[0m \u001b[38;5;28;01mwith\u001b[39;00m \u001b[38;5;28mopen\u001b[39m(\u001b[38;5;124m'\u001b[39m\u001b[38;5;124mtest.txt\u001b[39m\u001b[38;5;124m'\u001b[39m, \u001b[38;5;124m'\u001b[39m\u001b[38;5;124mw\u001b[39m\u001b[38;5;124m'\u001b[39m, encoding\u001b[38;5;241m=\u001b[39m\u001b[38;5;124m'\u001b[39m\u001b[38;5;124mutf-8\u001b[39m\u001b[38;5;124m'\u001b[39m) \u001b[38;5;28;01mas\u001b[39;00m file:\n\u001b[1;32m---> 17\u001b[0m     \u001b[43mfile\u001b[49m\u001b[38;5;241;43m.\u001b[39;49m\u001b[43mwrite\u001b[49m\u001b[43m(\u001b[49m\u001b[43mdecoded_result\u001b[49m\u001b[43m)\u001b[49m\n",
      "\u001b[1;31mTypeError\u001b[0m: write() argument must be str, not None"
     ]
    }
   ],
   "source": [
    "for text1 in [(small_text, 'small'), (medium_text, 'medium'), (big_text, 'big')]:\n",
    "    text, name = text1\n",
    "    tracemalloc.start()\n",
    "    encoded_result, encoding_time = measure_time(el.encrypt, text, public_key)\n",
    "    encoding_memory_usage = tracemalloc.get_traced_memory()[1] / (1024 ** 2)  # Переведення в мегабайти\n",
    "    tracemalloc.clear_traces()\n",
    "    tracemalloc.start()\n",
    "    decoded_result, decoding_time = measure_time_decode(el.decrypt, encoded_result, private_key, public_key)\n",
    "    decoding_memory_usage = tracemalloc.get_traced_memory()[1] / (1024 ** 2)  # Переведення в мегабайти\n",
    "    tracemalloc.clear_traces()\n",
    "    print(f\"Correctness: {text == decoded_result}\")\n",
    "    print(f\"The time used for encoding {name} text is {encoding_time}, memory - {encoding_memory_usage} MB\")\n",
    "    print(f\"The time used for decoding {name} text is {decoding_time}, memory - {decoding_memory_usage} MB\")"
   ]
  },
  {
   "cell_type": "markdown",
   "metadata": {},
   "source": [
    "З дуже великими даними цей алгоритм не справляється."
   ]
  },
  {
   "cell_type": "code",
   "execution_count": 16,
   "metadata": {},
   "outputs": [],
   "source": [
    "from encode_photo import encode_image_to_base64\n",
    "from decode_photo import decode_base64_file_to_image\n",
    "\n",
    "small_photo_encoded = encode_image_to_base64('very_small_image.jpeg')\n",
    "large_photo_encoded = encode_image_to_base64('photo.jpg')"
   ]
  },
  {
   "cell_type": "markdown",
   "metadata": {},
   "source": [
    "Тестування ефективності алгоритму на картинках (без урахування часу на перетворення самих фото):"
   ]
  },
  {
   "cell_type": "code",
   "execution_count": 20,
   "metadata": {},
   "outputs": [
    {
     "name": "stdout",
     "output_type": "stream",
     "text": [
      "Correctness: True\n",
      "The time used for encoding small photo is 4.339330673217773, memory - 0.1809101104736328 MB\n",
      "The time used for decoding small photo is 3.716301202774048, memory - 0.11814308166503906 MB\n",
      "Correctness: True\n",
      "The time used for encoding large photo is 12.718733549118042, memory - 0.35483551025390625 MB\n",
      "The time used for decoding large photo is 11.476421117782593, memory - 0.35382938385009766 MB\n"
     ]
    }
   ],
   "source": [
    "for file, name in [(small_photo_encoded, 'small'), (large_photo_encoded, 'large')]:\n",
    "    tracemalloc.start()\n",
    "    encoded_result, encoding_time = measure_time(el.encrypt, file, public_key)\n",
    "    encoding_memory_usage = tracemalloc.get_traced_memory()[1] / (1024 ** 2)  # Переведення в мегабайти\n",
    "    tracemalloc.clear_traces()\n",
    "    tracemalloc.start()\n",
    "    decoded_result, decoding_time = measure_time_decode(el.decrypt, encoded_result, private_key, public_key)\n",
    "    decoding_memory_usage = tracemalloc.get_traced_memory()[1] / (1024 ** 2)  # Переведення в мегабайти\n",
    "    tracemalloc.clear_traces()\n",
    "    print(f\"Correctness: {file == decoded_result}\")\n",
    "    print(f\"The time used for encoding {name} photo is {encoding_time}, memory - {encoding_memory_usage} MB\")\n",
    "    print(f\"The time used for decoding {name} photo is {decoding_time}, memory - {decoding_memory_usage} MB\")"
   ]
  }
 ],
 "metadata": {
  "kernelspec": {
   "display_name": "Python 3",
   "language": "python",
   "name": "python3"
  },
  "language_info": {
   "codemirror_mode": {
    "name": "ipython",
    "version": 3
   },
   "file_extension": ".py",
   "mimetype": "text/x-python",
   "name": "python",
   "nbconvert_exporter": "python",
   "pygments_lexer": "ipython3",
   "version": "3.11.5"
  }
 },
 "nbformat": 4,
 "nbformat_minor": 2
}
