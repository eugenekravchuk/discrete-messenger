{
 "cells": [
  {
   "cell_type": "code",
   "execution_count": 1,
   "metadata": {},
   "outputs": [],
   "source": [
    "from ElipticCurve import EllipticCurve\n",
    "import time\n",
    "import tracemalloc"
   ]
  },
  {
   "cell_type": "code",
   "execution_count": 2,
   "metadata": {},
   "outputs": [],
   "source": [
    "def measure_time(func, *args):\n",
    "    start_time = time.time()\n",
    "    result = func(*args)\n",
    "    end_time = time.time()\n",
    "    execution_time = end_time - start_time\n",
    "    return result, execution_time"
   ]
  },
  {
   "cell_type": "markdown",
   "metadata": {},
   "source": [
    "Тестування часу і пам'яті, необхідну для створення ключів"
   ]
  },
  {
   "cell_type": "code",
   "execution_count": 5,
   "metadata": {},
   "outputs": [
    {
     "name": "stdout",
     "output_type": "stream",
     "text": [
      "(8928723677400577649925073127216718283001234342290929163090448522806218250254, 24063634504411369444004388328406893104921309130290362409525029265453700107952) 98746280228231762573942584406806761399288439163733007552775784393906454535145\n",
      "The time used to generate keys: 0.8300788402557373s\n",
      "The memory used to create keys: 3.3558034896850586 MB\n"
     ]
    }
   ],
   "source": [
    "with open(\"zapovit.txt\", 'r', encoding=\"utf-8\") as file:\n",
    "    small_text = file.read()\n",
    "with open(\"kateryna.txt\", 'r', encoding=\"utf-8\") as file:\n",
    "    medium_text = file.read()\n",
    "with open(\"tygrolovy.txt\", 'r', encoding=\"utf-8\") as file:\n",
    "    big_text = file.read()\n",
    "\n",
    "public_key = None\n",
    "private_key = None\n",
    "dsa = None\n",
    "time_used = None\n",
    "memory_usage = None\n",
    "\n",
    "ec = EllipticCurve()\n",
    "tracemalloc.start()\n",
    "(private_key, public_key), time_used = measure_time(ec.generate_keys)\n",
    "memory_usage = tracemalloc.get_traced_memory()[1] / (1024 ** 2)\n",
    "tracemalloc.clear_traces()\n",
    "print(public_key, private_key)\n",
    "print(f'The time used to generate keys: {time_used}s')\n",
    "print(f'The memory used to create keys: {memory_usage} MB')"
   ]
  },
  {
   "cell_type": "markdown",
   "metadata": {},
   "source": [
    "Список зі зміненими текстами, щоб перевірити алгоритм."
   ]
  },
  {
   "cell_type": "code",
   "execution_count": 7,
   "metadata": {},
   "outputs": [],
   "source": [
    "changed = [small_text + '&', medium_text + 'і', big_text + '  ']"
   ]
  },
  {
   "cell_type": "markdown",
   "metadata": {},
   "source": [
    "Тестування ефективності алгоритму на повідомленнях різної довжини."
   ]
  },
  {
   "cell_type": "code",
   "execution_count": 9,
   "metadata": {},
   "outputs": [
    {
     "name": "stdout",
     "output_type": "stream",
     "text": [
      "Correctness: \n",
      "Answer for right text is True\n",
      "Answer for changed text is False\n",
      "The time used for creating signature for small text is 0.8649799823760986, memory - 0.16614818572998047 MB\n",
      "The time used for verification of small text is 2.580408215522766, memory - 0.003562450408935547 MB\n",
      "Correctness: \n",
      "Answer for right text is True\n",
      "Answer for changed text is False\n",
      "The time used for creating signature for medium text is 0.8998403549194336, memory - 0.1156320571899414 MB\n",
      "The time used for verification of medium text is 2.6326366662979126, memory - 0.11504554748535156 MB\n",
      "Correctness: \n",
      "Answer for right text is True\n",
      "Answer for changed text is False\n",
      "The time used for creating signature for big text is 0.8494484424591064, memory - 3.303110122680664 MB\n",
      "The time used for verification of big text is 2.5748157501220703, memory - 3.302522659301758 MB\n"
     ]
    }
   ],
   "source": [
    "for i, text1 in enumerate([(small_text, 'small'), (medium_text, 'medium'), (big_text, 'big')]):\n",
    "    text, name = text1\n",
    "    tracemalloc.start()\n",
    "    signature, encoding_time = measure_time(ec.sign, text, public_key, private_key)\n",
    "    encoding_memory_usage = tracemalloc.get_traced_memory()[1] / (1024 ** 2)  # Переведення в мегабайти\n",
    "    tracemalloc.clear_traces()\n",
    "    tracemalloc.start()\n",
    "    right_answer, verification_time = measure_time(ec.verify, text, signature[0], signature[1], public_key)\n",
    "    decoding_memory_usage = tracemalloc.get_traced_memory()[1] / (1024 ** 2)  # Переведення в мегабайти\n",
    "    tracemalloc.clear_traces()\n",
    "    tracemalloc.start()\n",
    "    answer, verification_time2 = measure_time(ec.verify, changed[i], signature[0], signature[1], public_key)\n",
    "    decoding_memory_usage2 = tracemalloc.get_traced_memory()[1] / (1024 ** 2)  # Переведення в мегабайти\n",
    "    tracemalloc.clear_traces()\n",
    "    print(f\"Correctness: \\nAnswer for right text is {right_answer}\\nAnswer for changed text is {answer}\")\n",
    "    print(f\"The time used for creating signature for {name} text is {encoding_time}, memory - {encoding_memory_usage} MB\")\n",
    "    print(f\"The time used for verification of {name} text is {(verification_time+verification_time2)/2}, memory - {(decoding_memory_usage+decoding_memory_usage2)/2} MB\")"
   ]
  },
  {
   "cell_type": "code",
   "execution_count": 10,
   "metadata": {},
   "outputs": [],
   "source": [
    "from encode_photo import encode_image_to_base64\n",
    "from decode_photo import decode_base64_file_to_image\n",
    "\n",
    "small_photo_encoded = encode_image_to_base64('very_small_image.jpeg')\n",
    "large_photo_encoded = encode_image_to_base64('photo.jpg')"
   ]
  },
  {
   "cell_type": "code",
   "execution_count": 11,
   "metadata": {},
   "outputs": [],
   "source": [
    "changed = [small_photo_encoded + '8', large_photo_encoded + 'w']"
   ]
  },
  {
   "cell_type": "markdown",
   "metadata": {},
   "source": [
    "Тестування ефективності повідомлення у верифікації фото"
   ]
  },
  {
   "cell_type": "code",
   "execution_count": 13,
   "metadata": {},
   "outputs": [
    {
     "name": "stdout",
     "output_type": "stream",
     "text": [
      "Correctness: \n",
      "Answer for right text is True\n",
      "Answer for changed text is False\n",
      "The time used for creating signature for small text is 0.9005239009857178, memory - 0.2805509567260742 MB\n",
      "The time used for verification of small text is 2.6983996629714966, memory - 0.19435834884643555 MB\n",
      "Correctness: \n",
      "Answer for right text is True\n",
      "Answer for changed text is False\n",
      "The time used for creating signature for medium text is 0.8911404609680176, memory - 0.5860795974731445 MB\n",
      "The time used for verification of medium text is 2.6840375661849976, memory - 0.5854907035827637 MB\n"
     ]
    }
   ],
   "source": [
    "for i, text1 in enumerate([(small_photo_encoded, 'small'), (large_photo_encoded, 'medium')]):\n",
    "    text, name = text1\n",
    "    tracemalloc.start()\n",
    "    signature, encoding_time = measure_time(ec.sign, text, public_key, private_key)\n",
    "    encoding_memory_usage = tracemalloc.get_traced_memory()[1] / (1024 ** 2)  # Переведення в мегабайти\n",
    "    tracemalloc.clear_traces()\n",
    "    tracemalloc.start()\n",
    "    right_answer, verification_time = measure_time(ec.verify, text, signature[0], signature[1], public_key)\n",
    "    decoding_memory_usage = tracemalloc.get_traced_memory()[1] / (1024 ** 2)  # Переведення в мегабайти\n",
    "    tracemalloc.clear_traces()\n",
    "    tracemalloc.start()\n",
    "    answer, verification_time2 = measure_time(ec.verify, changed[i], signature[0], signature[1], public_key)\n",
    "    decoding_memory_usage2 = tracemalloc.get_traced_memory()[1] / (1024 ** 2)  # Переведення в мегабайти\n",
    "    tracemalloc.clear_traces()\n",
    "    print(f\"Correctness: \\nAnswer for right text is {right_answer}\\nAnswer for changed text is {answer}\")\n",
    "    print(f\"The time used for creating signature for {name} text is {encoding_time}, memory - {encoding_memory_usage} MB\")\n",
    "    print(f\"The time used for verification of {name} text is {(verification_time+verification_time2)/2}, memory - {(decoding_memory_usage+decoding_memory_usage2)/2} MB\")"
   ]
  }
 ],
 "metadata": {
  "kernelspec": {
   "display_name": "Python 3",
   "language": "python",
   "name": "python3"
  },
  "language_info": {
   "codemirror_mode": {
    "name": "ipython",
    "version": 3
   },
   "file_extension": ".py",
   "mimetype": "text/x-python",
   "name": "python",
   "nbconvert_exporter": "python",
   "pygments_lexer": "ipython3",
   "version": "3.11.5"
  }
 },
 "nbformat": 4,
 "nbformat_minor": 2
}
