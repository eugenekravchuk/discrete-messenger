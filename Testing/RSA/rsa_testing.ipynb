{
 "cells": [
  {
   "cell_type": "markdown",
   "metadata": {},
   "source": [
    "## RSA algorithm testing"
   ]
  },
  {
   "cell_type": "code",
   "execution_count": 22,
   "metadata": {},
   "outputs": [],
   "source": [
    "from rsa_text import primefiller, setkeys, encoder, decoder\n",
    "from encode_photo import encode_image_to_base64\n",
    "import time\n",
    "\n",
    "\n",
    "with open(\"zapovit.txt\", 'r', encoding=\"utf-8\") as file:\n",
    "    small_text = file.read()\n",
    "with open(\"kateryna.txt\", 'r', encoding=\"utf-8\") as file:\n",
    "    medium_text = file.read()\n",
    "with open(\"tygrolovy.txt\", 'r', encoding=\"utf-8\") as file:\n",
    "    big_text = file.read()\n",
    "\n",
    "primes = primefiller()\n",
    "public_key, private_key, n = setkeys(primes)\n",
    "\n",
    "small_photo = encode_image_to_base64('very_small_image.jpeg')\n",
    "large_photo = encode_image_to_base64('photo.jpg')"
   ]
  },
  {
   "cell_type": "code",
   "execution_count": 23,
   "metadata": {},
   "outputs": [],
   "source": [
    "def measure_time(func, plaintext, key, n):\n",
    "    start_time = time.time()\n",
    "    result = func(plaintext, key, n) \n",
    "    end_time = time.time()\n",
    "    execution_time = end_time - start_time\n",
    "    return result, execution_time"
   ]
  },
  {
   "cell_type": "markdown",
   "metadata": {},
   "source": [
    "Тестування алгоритму на текстах різного розміру"
   ]
  },
  {
   "cell_type": "code",
   "execution_count": 24,
   "metadata": {},
   "outputs": [],
   "source": [
    "import tracemalloc\n",
    "\n",
    "# Вимірюємо використання пам'яті для кожного тексту\n",
    "for text1 in [(small_text, 'small'), (medium_text, 'medium'), (big_text, 'big')]:\n",
    "    text, name = text1\n",
    "    tracemalloc.start()\n",
    "    encoded_result, encoding_time = measure_time(encoder, text, public_key, n)\n",
    "    current_memory_usage = tracemalloc.get_traced_memory()[1] / (1024 ** 2)\n",
    "    tracemalloc.clear_traces()\n",
    "\n",
    "    tracemalloc.start()\n",
    "    decoded_result, decoding_time = measure_time(decoder, encoded_result, private_key, n)\n",
    "    current_memory_usage = tracemalloc.get_traced_memory()[1] / (1024 ** 2)\n",
    "    tracemalloc.clear_traces()\n",
    "\n",
    "\n",
    "    print(f\"Decoded text matches the original: {text==decoded_result}\")\n",
    "    print(f\"The time used for encoding text is {encoding_time}, memory - {current_memory_usage} MB\")\n",
    "    print(f\"The time used for decoding text is {decoding_time}, memory - {current_memory_usage} MB\")"
   ]
  },
  {
   "cell_type": "markdown",
   "metadata": {},
   "source": [
    "Тестування алгоритму на фото різного розміру"
   ]
  },
  {
   "cell_type": "code",
   "execution_count": 25,
   "metadata": {},
   "outputs": [
    {
     "name": "stdout",
     "output_type": "stream",
     "text": [
      "Decoded text matches the original: True\n",
      "The time used for encoding text is 0.19681787490844727, memory - 0.048980712890625 MB\n",
      "The time used for decoding text is 23.754633903503418, memory - 0.048980712890625 MB\n"
     ]
    },
    {
     "ename": "KeyboardInterrupt",
     "evalue": "",
     "output_type": "error",
     "traceback": [
      "\u001b[0;31m---------------------------------------------------------------------------\u001b[0m",
      "\u001b[0;31mKeyboardInterrupt\u001b[0m                         Traceback (most recent call last)",
      "\u001b[1;32m/Users/iryna/Documents/descrete/project_2/lol.ipynb Cell 5\u001b[0m line \u001b[0;36m1\n\u001b[1;32m      <a href='vscode-notebook-cell:/Users/iryna/Documents/descrete/project_2/lol.ipynb#X11sZmlsZQ%3D%3D?line=7'>8</a>\u001b[0m tracemalloc\u001b[39m.\u001b[39mclear_traces()\n\u001b[1;32m     <a href='vscode-notebook-cell:/Users/iryna/Documents/descrete/project_2/lol.ipynb#X11sZmlsZQ%3D%3D?line=9'>10</a>\u001b[0m tracemalloc\u001b[39m.\u001b[39mstart()\n\u001b[0;32m---> <a href='vscode-notebook-cell:/Users/iryna/Documents/descrete/project_2/lol.ipynb#X11sZmlsZQ%3D%3D?line=10'>11</a>\u001b[0m decoded_photo, decoding_time \u001b[39m=\u001b[39m measure_time(decoder, encoded_photo, private_key, n)\n\u001b[1;32m     <a href='vscode-notebook-cell:/Users/iryna/Documents/descrete/project_2/lol.ipynb#X11sZmlsZQ%3D%3D?line=11'>12</a>\u001b[0m current_memory_usage \u001b[39m=\u001b[39m tracemalloc\u001b[39m.\u001b[39mget_traced_memory()[\u001b[39m1\u001b[39m] \u001b[39m/\u001b[39m (\u001b[39m1024\u001b[39m \u001b[39m*\u001b[39m\u001b[39m*\u001b[39m \u001b[39m2\u001b[39m)\n\u001b[1;32m     <a href='vscode-notebook-cell:/Users/iryna/Documents/descrete/project_2/lol.ipynb#X11sZmlsZQ%3D%3D?line=12'>13</a>\u001b[0m tracemalloc\u001b[39m.\u001b[39mclear_traces()\n",
      "\u001b[1;32m/Users/iryna/Documents/descrete/project_2/lol.ipynb Cell 5\u001b[0m line \u001b[0;36m3\n\u001b[1;32m      <a href='vscode-notebook-cell:/Users/iryna/Documents/descrete/project_2/lol.ipynb#X11sZmlsZQ%3D%3D?line=0'>1</a>\u001b[0m \u001b[39mdef\u001b[39;00m \u001b[39mmeasure_time\u001b[39m(func, plaintext, key, n):\n\u001b[1;32m      <a href='vscode-notebook-cell:/Users/iryna/Documents/descrete/project_2/lol.ipynb#X11sZmlsZQ%3D%3D?line=1'>2</a>\u001b[0m     start_time \u001b[39m=\u001b[39m time\u001b[39m.\u001b[39mtime()\n\u001b[0;32m----> <a href='vscode-notebook-cell:/Users/iryna/Documents/descrete/project_2/lol.ipynb#X11sZmlsZQ%3D%3D?line=2'>3</a>\u001b[0m     result \u001b[39m=\u001b[39m func(plaintext, key, n) \n\u001b[1;32m      <a href='vscode-notebook-cell:/Users/iryna/Documents/descrete/project_2/lol.ipynb#X11sZmlsZQ%3D%3D?line=3'>4</a>\u001b[0m     end_time \u001b[39m=\u001b[39m time\u001b[39m.\u001b[39mtime()\n\u001b[1;32m      <a href='vscode-notebook-cell:/Users/iryna/Documents/descrete/project_2/lol.ipynb#X11sZmlsZQ%3D%3D?line=4'>5</a>\u001b[0m     execution_time \u001b[39m=\u001b[39m end_time \u001b[39m-\u001b[39m start_time\n",
      "File \u001b[0;32m~/Documents/descrete/project_2/rsa_text.py:156\u001b[0m, in \u001b[0;36mdecoder\u001b[0;34m(encoded, pri_key, n)\u001b[0m\n\u001b[1;32m    154\u001b[0m s \u001b[39m=\u001b[39m \u001b[39m'\u001b[39m\u001b[39m'\u001b[39m\n\u001b[1;32m    155\u001b[0m \u001b[39mfor\u001b[39;00m num \u001b[39min\u001b[39;00m encoded:\n\u001b[0;32m--> 156\u001b[0m     s \u001b[39m+\u001b[39m\u001b[39m=\u001b[39m \u001b[39mchr\u001b[39m(decrypt(num, pri_key, n))\n\u001b[1;32m    157\u001b[0m \u001b[39mreturn\u001b[39;00m s\n",
      "File \u001b[0;32m~/Documents/descrete/project_2/rsa_text.py:118\u001b[0m, in \u001b[0;36mdecrypt\u001b[0;34m(encrypted_text, pri_k, num)\u001b[0m\n\u001b[1;32m    116\u001b[0m d \u001b[39m=\u001b[39m pri_k\n\u001b[1;32m    117\u001b[0m decrypted \u001b[39m=\u001b[39m \u001b[39m1\u001b[39m\n\u001b[0;32m--> 118\u001b[0m \u001b[39mwhile\u001b[39;00m d \u001b[39m>\u001b[39;49m \u001b[39m0\u001b[39;49m:\n\u001b[1;32m    119\u001b[0m     decrypted \u001b[39m*\u001b[39m\u001b[39m=\u001b[39m encrypted_text\n\u001b[1;32m    120\u001b[0m     decrypted \u001b[39m%\u001b[39m\u001b[39m=\u001b[39m num\n",
      "\u001b[0;31mKeyboardInterrupt\u001b[0m: "
     ]
    }
   ],
   "source": [
    "import tracemalloc\n",
    "\n",
    "# Вимірюємо використання пам'яті для кожного тексту\n",
    "for photo in [small_photo, large_photo]:\n",
    "    tracemalloc.start()\n",
    "    encoded_photo, encoding_time = measure_time(encoder, photo, public_key, n)\n",
    "    current_memory_usage = tracemalloc.get_traced_memory()[1] / (1024 ** 2)\n",
    "    tracemalloc.clear_traces()\n",
    "\n",
    "    tracemalloc.start()\n",
    "    decoded_photo, decoding_time = measure_time(decoder, encoded_photo, private_key, n)\n",
    "    current_memory_usage = tracemalloc.get_traced_memory()[1] / (1024 ** 2)\n",
    "    tracemalloc.clear_traces()\n",
    "\n",
    "\n",
    "    print(f\"Decoded photo matches the original: {photo == decoded_photo}\")\n",
    "    print(f\"The time used for encoding photo is {encoding_time}, memory - {current_memory_usage} MB\")\n",
    "    print(f\"The time used for decoding photo is {decoding_time}, memory - {current_memory_usage} MB\")"
   ]
  }
 ],
 "metadata": {
  "kernelspec": {
   "display_name": "Python 3",
   "language": "python",
   "name": "python3"
  },
  "language_info": {
   "codemirror_mode": {
    "name": "ipython",
    "version": 3
   },
   "file_extension": ".py",
   "mimetype": "text/x-python",
   "name": "python",
   "nbconvert_exporter": "python",
   "pygments_lexer": "ipython3",
   "version": "3.11.5"
  }
 },
 "nbformat": 4,
 "nbformat_minor": 2
}
