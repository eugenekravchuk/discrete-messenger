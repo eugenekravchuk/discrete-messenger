{
 "cells": [
  {
   "cell_type": "markdown",
   "metadata": {},
   "source": [
    "## RSA algorithm testing"
   ]
  },
  {
   "cell_type": "code",
   "execution_count": 1,
   "metadata": {},
   "outputs": [],
   "source": [
    "from encode_photo import encode_image_to_base64\n",
    "from rsa_text import RSA\n",
    "import tracemalloc"
   ]
  },
  {
   "cell_type": "code",
   "execution_count": 2,
   "metadata": {},
   "outputs": [],
   "source": [
    "import time\n",
    "\n",
    "def measure_time(func, plaintext, key, n):\n",
    "    start_time = time.time()\n",
    "    result = func(plaintext, key, n) \n",
    "    end_time = time.time()\n",
    "    execution_time = end_time - start_time\n",
    "    return result, execution_time"
   ]
  },
  {
   "cell_type": "code",
   "execution_count": 3,
   "metadata": {},
   "outputs": [],
   "source": [
    "import time\n",
    "\n",
    "def measure_timee(func, primes):\n",
    "    start_time = time.time()\n",
    "    result = func(primes) \n",
    "    end_time = time.time()\n",
    "    execution_time = end_time - start_time\n",
    "    return result, execution_time"
   ]
  },
  {
   "cell_type": "code",
   "execution_count": 4,
   "metadata": {},
   "outputs": [
    {
     "name": "stdout",
     "output_type": "stream",
     "text": [
      "The time needed for generating the keys and number: ((11, 8591, 31861), 0.020760059356689453)\n",
      "The memory needed for generating the keys and number: 0.014279365539550781\n"
     ]
    }
   ],
   "source": [
    "with open(\"zapovit.txt\", 'r', encoding=\"utf-8\") as file:\n",
    "    small_text = file.read()\n",
    "with open(\"kateryna.txt\", 'r', encoding=\"utf-8\") as file:\n",
    "    medium_text = file.read()\n",
    "with open(\"tygrolovy.txt\", 'r', encoding=\"utf-8\") as file:\n",
    "    big_text = file.read()\n",
    "\n",
    "rsa = RSA()\n",
    "tracemalloc.start()\n",
    "primes = rsa.primefiller()\n",
    "timee = measure_timee(rsa.setkeys, primes)\n",
    "current_memory_usage = tracemalloc.get_traced_memory()[1] / (1024 ** 2)\n",
    "tracemalloc.clear_traces()\n",
    "print(f'The time needed for generating the keys and number: {timee}')\n",
    "print(f'The memory needed for generating the keys and number: {current_memory_usage}')\n",
    "public_key, private_key, n = rsa.setkeys(primes)\n",
    "\n",
    "small_photo = encode_image_to_base64('very_small_image.jpeg')\n",
    "large_photo = encode_image_to_base64('photo.jpg')"
   ]
  },
  {
   "cell_type": "markdown",
   "metadata": {},
   "source": [
    "Тестування алгоритму на текстах різного розміру"
   ]
  },
  {
   "cell_type": "code",
   "execution_count": 5,
   "metadata": {},
   "outputs": [
    {
     "name": "stdout",
     "output_type": "stream",
     "text": [
      "Decoded text matches the original: True\n",
      "The time used for encoding text is 0.0026531219482421875, memory - 0.004536628723144531 MB\n",
      "The time used for decoding text is 6.306966781616211, memory - 0.004536628723144531 MB\n",
      "Decoded text matches the original: True\n",
      "The time used for encoding text is 0.09156990051269531, memory - 0.03570556640625 MB\n",
      "The time used for decoding text is 219.26957297325134, memory - 0.03570556640625 MB\n"
     ]
    }
   ],
   "source": [
    "import tracemalloc\n",
    "\n",
    "# Вимірюємо використання пам'яті для кожного тексту\n",
    "for text1 in [(small_text, 'small'), (medium_text, 'medium')]:\n",
    "    text, name = text1\n",
    "    tracemalloc.start()\n",
    "    encoded_result, encoding_time = measure_time(rsa.encoder, text, public_key, n)\n",
    "    current_memory_usage = tracemalloc.get_traced_memory()[1] / (1024 ** 2)\n",
    "    tracemalloc.clear_traces()\n",
    "\n",
    "    tracemalloc.start()\n",
    "    decoded_result, decoding_time = measure_time(rsa.decoder, encoded_result, private_key, n)\n",
    "    current_memory_usage = tracemalloc.get_traced_memory()[1] / (1024 ** 2)\n",
    "    tracemalloc.clear_traces()\n",
    "\n",
    "\n",
    "    print(f\"Decoded text matches the original: {text==decoded_result}\")\n",
    "    print(f\"The time used for encoding text is {encoding_time}, memory - {current_memory_usage} MB\")\n",
    "    print(f\"The time used for decoding text is {decoding_time}, memory - {current_memory_usage} MB\")"
   ]
  },
  {
   "cell_type": "markdown",
   "metadata": {},
   "source": [
    "Тестування алгоритму на фото різного розміру"
   ]
  },
  {
   "cell_type": "code",
   "execution_count": null,
   "metadata": {},
   "outputs": [
    {
     "name": "stdout",
     "output_type": "stream",
     "text": [
      "Decoded photo matches the original: True\n",
      "The time used for encoding photo is 0.11755228042602539, memory - 0.04821014404296875 MB\n",
      "The time used for decoding photo is 2.110386371612549, memory - 0.04821014404296875 MB\n",
      "Decoded photo matches the original: True\n",
      "The time used for encoding photo is 0.352741003036499, memory - 0.14486312866210938 MB\n",
      "The time used for decoding photo is 6.321465015411377, memory - 0.14486312866210938 MB\n"
     ]
    }
   ],
   "source": [
    "import tracemalloc\n",
    "\n",
    "# Вимірюємо використання пам'яті для кожного тексту\n",
    "for photo in [small_photo, large_photo]:\n",
    "    tracemalloc.start()\n",
    "    encoded_photo, encoding_time = measure_time(rsa.encoder, photo, public_key, n)\n",
    "    current_memory_usage = tracemalloc.get_traced_memory()[1] / (1024 ** 2)\n",
    "    tracemalloc.clear_traces()\n",
    "\n",
    "    tracemalloc.start()\n",
    "    decoded_photo, decoding_time = measure_time(rsa.decoder, encoded_photo, private_key, n)\n",
    "    current_memory_usage = tracemalloc.get_traced_memory()[1] / (1024 ** 2)\n",
    "    tracemalloc.clear_traces()\n",
    "\n",
    "\n",
    "    print(f\"Decoded photo matches the original: {photo == decoded_photo}\")\n",
    "    print(f\"The time used for encoding photo is {encoding_time}, memory - {current_memory_usage} MB\")\n",
    "    print(f\"The time used for decoding photo is {decoding_time}, memory - {current_memory_usage} MB\")"
   ]
  }
 ],
 "metadata": {
  "kernelspec": {
   "display_name": "Python 3",
   "language": "python",
   "name": "python3"
  },
  "language_info": {
   "codemirror_mode": {
    "name": "ipython",
    "version": 3
   },
   "file_extension": ".py",
   "mimetype": "text/x-python",
   "name": "python",
   "nbconvert_exporter": "python",
   "pygments_lexer": "ipython3",
   "version": "3.11.5"
  }
 },
 "nbformat": 4,
 "nbformat_minor": 2
}
