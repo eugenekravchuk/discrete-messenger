{
 "cells": [
  {
   "cell_type": "code",
   "execution_count": 14,
   "metadata": {},
   "outputs": [],
   "source": [
    "from RCS import RCS\n",
    "import time\n",
    "import tracemalloc"
   ]
  },
  {
   "cell_type": "code",
   "execution_count": 15,
   "metadata": {},
   "outputs": [],
   "source": [
    "def measure_time(func, *args):\n",
    "    start_time = time.time()\n",
    "    result = func(*args)\n",
    "    end_time = time.time()\n",
    "    execution_time = end_time - start_time\n",
    "    return result, execution_time"
   ]
  },
  {
   "cell_type": "code",
   "execution_count": 16,
   "metadata": {},
   "outputs": [
    {
     "name": "stdout",
     "output_type": "stream",
     "text": [
      "458213834836153987722527510605361409605695656857461640503977749927530272354088897331598503757632696992417779697557922202437014658867542537784640376939509960249404451083120381027640079905035851516264561883173841267050121278117327622085930168291493964024287683875710960057694537478651937197877647901986490032177279185880285517023391553703789822052110810024475327590509016780936862710065705054628616276973799374995713887729023910812523214583928512677960357218822881458749492963345183525195861842221472393097296515643647302898251207443941312331387779904922090867847031708024870915665556046362974382436556571178215594817 (12541863957310164210240908709634198007887618601391612752099905046133032870618634634629023847356411361964545242368583087036758943134513396935597403656148260142561240557314204301568824371925039981069889666541507240351114648159976353390643032182286647672488054341148452131767974408703221741159959818701484589031, 36534747657590320373857019621948369388329877658870975905329770668536841805640764453546336087329859690388561764891078507695565876801570355602654038227823914232898529817701715406973190262530383045985003642965205235974276596981570516538796174442078202749776657802698463176942999124771928930766166810041518163607)\n",
      "The time used to generate keys: 34.64357805252075s\n",
      "The memory used to create keys: 16.70827293395996 MB\n"
     ]
    }
   ],
   "source": [
    "\n",
    "with open(\"zapovit.txt\", 'r', encoding=\"utf-8\") as file:\n",
    "    small_text = file.read()\n",
    "with open(\"kateryna.txt\", 'r', encoding=\"utf-8\") as file:\n",
    "    medium_text = file.read()\n",
    "with open(\"tygrolovy.txt\", 'r', encoding=\"utf-8\") as file:\n",
    "    big_text = file.read()\n",
    "\n",
    "\n",
    "\n",
    "rcs = RCS()\n",
    "tracemalloc.start()\n",
    "(n, p, q), time_used = measure_time(rcs.generate_keypair, 1024)\n",
    "memory_usage = tracemalloc.get_traced_memory()[1] / (1024 ** 2)\n",
    "tracemalloc.clear_traces()\n",
    "public_key = n\n",
    "private_key = (p, q)\n",
    "print(public_key, private_key)\n",
    "print(f'The time used to generate keys: {time_used}s')\n",
    "print(f'The memory used to create keys: {memory_usage} MB')\n"
   ]
  },
  {
   "cell_type": "markdown",
   "metadata": {},
   "source": [
    "Результати тестування ефективності алгоритму на текстових файлах різних розмірів:"
   ]
  },
  {
   "cell_type": "code",
   "execution_count": 11,
   "metadata": {},
   "outputs": [
    {
     "name": "stdout",
     "output_type": "stream",
     "text": [
      "Correctness: True\n",
      "The time used for encoding small text is 0.0001347064971923828, memory - 0.11782360076904297 MB\n",
      "The time used for decoding small text is 0.2746109962463379, memory - 0.061240196228027344 MB\n",
      "Correctness: False\n",
      "The time used for encoding medium text is 0.0034089088439941406, memory - 0.08130645751953125 MB\n",
      "The time used for decoding medium text is 9.086190223693848, memory - 0.11284828186035156 MB\n"
     ]
    },
    {
     "ename": "KeyboardInterrupt",
     "evalue": "",
     "output_type": "error",
     "traceback": [
      "\u001b[0;31m---------------------------------------------------------------------------\u001b[0m",
      "\u001b[0;31mKeyboardInterrupt\u001b[0m                         Traceback (most recent call last)",
      "Cell \u001b[0;32mIn[11], line 8\u001b[0m\n\u001b[1;32m      6\u001b[0m tracemalloc\u001b[38;5;241m.\u001b[39mclear_traces()\n\u001b[1;32m      7\u001b[0m tracemalloc\u001b[38;5;241m.\u001b[39mstart()\n\u001b[0;32m----> 8\u001b[0m decoded_result, decoding_time \u001b[38;5;241m=\u001b[39m \u001b[43mmeasure_time\u001b[49m\u001b[43m(\u001b[49m\u001b[43mrcs\u001b[49m\u001b[38;5;241;43m.\u001b[39;49m\u001b[43mdecrypt\u001b[49m\u001b[43m,\u001b[49m\u001b[43m \u001b[49m\u001b[43mencoded_result\u001b[49m\u001b[43m,\u001b[49m\u001b[43m \u001b[49m\u001b[38;5;241;43m*\u001b[39;49m\u001b[43mprivate_key\u001b[49m\u001b[43m,\u001b[49m\u001b[43m \u001b[49m\u001b[43mpublic_key\u001b[49m\u001b[43m)\u001b[49m\n\u001b[1;32m      9\u001b[0m decoding_memory_usage \u001b[38;5;241m=\u001b[39m tracemalloc\u001b[38;5;241m.\u001b[39mget_traced_memory()[\u001b[38;5;241m1\u001b[39m] \u001b[38;5;241m/\u001b[39m (\u001b[38;5;241m1024\u001b[39m \u001b[38;5;241m*\u001b[39m\u001b[38;5;241m*\u001b[39m \u001b[38;5;241m2\u001b[39m)  \u001b[38;5;66;03m# Переведення в мегабайти\u001b[39;00m\n\u001b[1;32m     10\u001b[0m tracemalloc\u001b[38;5;241m.\u001b[39mclear_traces()\n",
      "Cell \u001b[0;32mIn[4], line 3\u001b[0m, in \u001b[0;36mmeasure_time\u001b[0;34m(func, *args)\u001b[0m\n\u001b[1;32m      1\u001b[0m \u001b[38;5;28;01mdef\u001b[39;00m \u001b[38;5;21mmeasure_time\u001b[39m(func, \u001b[38;5;241m*\u001b[39margs):\n\u001b[1;32m      2\u001b[0m     start_time \u001b[38;5;241m=\u001b[39m time\u001b[38;5;241m.\u001b[39mtime()\n\u001b[0;32m----> 3\u001b[0m     result \u001b[38;5;241m=\u001b[39m \u001b[43mfunc\u001b[49m\u001b[43m(\u001b[49m\u001b[38;5;241;43m*\u001b[39;49m\u001b[43margs\u001b[49m\u001b[43m)\u001b[49m\n\u001b[1;32m      4\u001b[0m     end_time \u001b[38;5;241m=\u001b[39m time\u001b[38;5;241m.\u001b[39mtime()\n\u001b[1;32m      5\u001b[0m     execution_time \u001b[38;5;241m=\u001b[39m end_time \u001b[38;5;241m-\u001b[39m start_time\n",
      "File \u001b[0;32m~/Desktop/discrat/RCS.py:109\u001b[0m, in \u001b[0;36mRCS.decrypt\u001b[0;34m(self, ciphertexts, p, q, n)\u001b[0m\n\u001b[1;32m    106\u001b[0m \u001b[38;5;28;01mfor\u001b[39;00m chunk \u001b[38;5;129;01min\u001b[39;00m ciphertexts:\n\u001b[1;32m    107\u001b[0m     \u001b[38;5;66;03m# Calculate square roots of the ciphertext modulo p and q\u001b[39;00m\n\u001b[1;32m    108\u001b[0m     m1 \u001b[38;5;241m=\u001b[39m \u001b[38;5;28mpow\u001b[39m(chunk, (p \u001b[38;5;241m+\u001b[39m \u001b[38;5;241m1\u001b[39m) \u001b[38;5;241m/\u001b[39m\u001b[38;5;241m/\u001b[39m \u001b[38;5;241m4\u001b[39m, p)\n\u001b[0;32m--> 109\u001b[0m     m2 \u001b[38;5;241m=\u001b[39m \u001b[38;5;28mpow\u001b[39m(chunk, (q \u001b[38;5;241m+\u001b[39m \u001b[38;5;241m1\u001b[39m) \u001b[38;5;241m/\u001b[39m\u001b[38;5;241m/\u001b[39m \u001b[38;5;241m4\u001b[39m, q)\n\u001b[1;32m    111\u001b[0m     \u001b[38;5;66;03m# Use Chinese Remainder Theorem to find four possible roots modulo n\u001b[39;00m\n\u001b[1;32m    112\u001b[0m     _, yp, yq \u001b[38;5;241m=\u001b[39m \u001b[38;5;28mself\u001b[39m\u001b[38;5;241m.\u001b[39mextended_gcd(p, q)\n",
      "\u001b[0;31mKeyboardInterrupt\u001b[0m: "
     ]
    }
   ],
   "source": [
    "for text1 in [(small_text, 'small'), (medium_text, 'medium'), (big_text, 'big')]:\n",
    "    text, name = text1\n",
    "    tracemalloc.start()\n",
    "    encoded_result, encoding_time = measure_time(rcs.encrypt, text, public_key)\n",
    "    encoding_memory_usage = tracemalloc.get_traced_memory()[1] / (1024 ** 2)  # Переведення в мегабайти\n",
    "    tracemalloc.clear_traces()\n",
    "    tracemalloc.start()\n",
    "    decoded_result, decoding_time = measure_time(rcs.decrypt, encoded_result, *private_key, public_key)\n",
    "    decoding_memory_usage = tracemalloc.get_traced_memory()[1] / (1024 ** 2)  # Переведення в мегабайти\n",
    "    tracemalloc.clear_traces()\n",
    "    print(f\"The time used for encoding {name} text is {encoding_time}, memory - {encoding_memory_usage} MB\")\n",
    "    print(f\"The time used for decoding {name} text is {decoding_time}, memory - {decoding_memory_usage} MB\")"
   ]
  }
 ],
 "metadata": {
  "kernelspec": {
   "display_name": "Python 3",
   "language": "python",
   "name": "python3"
  },
  "language_info": {
   "codemirror_mode": {
    "name": "ipython",
    "version": 3
   },
   "file_extension": ".py",
   "mimetype": "text/x-python",
   "name": "python",
   "nbconvert_exporter": "python",
   "pygments_lexer": "ipython3",
   "version": "3.11.7"
  }
 },
 "nbformat": 4,
 "nbformat_minor": 2
}
