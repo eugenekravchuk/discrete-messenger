{
 "cells": [
  {
   "cell_type": "code",
   "execution_count": 14,
   "metadata": {},
   "outputs": [],
   "source": [
    "from RCS import RCS\n",
    "import time\n",
    "import tracemalloc"
   ]
  },
  {
   "cell_type": "code",
   "execution_count": 15,
   "metadata": {},
   "outputs": [],
   "source": [
    "def measure_time(func, *args):\n",
    "    start_time = time.time()\n",
    "    result = func(*args)\n",
    "    end_time = time.time()\n",
    "    execution_time = end_time - start_time\n",
    "    return result, execution_time"
   ]
  },
  {
   "cell_type": "code",
   "execution_count": 18,
   "metadata": {},
   "outputs": [
    {
     "name": "stdout",
     "output_type": "stream",
     "text": [
      "20617919636029195118646940264170592738225969794369776583208111511311970091509871979312849428837239106229716675382504535624982590205371649605821535343323966926926168364130811627119180089044242198628857235360794092770545015518201665802792149742965612391278861985013076406598107138482051298378170807476462879709028831532061848404493545256033647484058449417760085178634093139460901771413064574781416249427541145302402583980217948024427812129133842282761597122937683087963322140741227181746048537744754937547601069460907992559333079136973294496130974454993264666270310590697477170834243764762903639367038366346981563983681 (123492557138457696232040334761585632138188883743702092465840573228059822001290269310771785167880650749502566444401092398425086934537379357097346718023539457539659414395262760296825178111984873798471872888770953888631818669155531467141255424750853053828242748990542161098543690594678440573034204628002275520759, 166956779532168437117244511858600704048368601899914295405696330427617066016276690437503964937629320279540494571584998420955568275680550143811531497983878721787023928454565263797686282732432970419596628308099892257847571605632858265243599470608427913074257304785407264447491046781696106568542397697723395937159)\n",
      "The time used to generate keys: 6.0887041091918945s\n",
      "The memory used to create keys: 3.351292610168457 MB\n"
     ]
    }
   ],
   "source": [
    "\n",
    "with open(\"zapovit.txt\", 'r', encoding=\"utf-8\") as file:\n",
    "    small_text = file.read()\n",
    "with open(\"kateryna.txt\", 'r', encoding=\"utf-8\") as file:\n",
    "    medium_text = file.read()\n",
    "with open(\"tygrolovy.txt\", 'r', encoding=\"utf-8\") as file:\n",
    "    big_text = file.read()\n",
    "\n",
    "\n",
    "\n",
    "rcs = RCS()\n",
    "tracemalloc.start()\n",
    "(n, p, q), time_used = measure_time(rcs.generate_keypair, 1024)\n",
    "memory_usage = tracemalloc.get_traced_memory()[1] / (1024 ** 2)\n",
    "tracemalloc.clear_traces()\n",
    "public_key = n\n",
    "private_key = (p, q)\n",
    "print(public_key, private_key)\n",
    "print(f'The time used to generate keys: {time_used}s')\n",
    "print(f'The memory used to create keys: {memory_usage} MB')\n"
   ]
  },
  {
   "cell_type": "markdown",
   "metadata": {},
   "source": [
    "Результати тестування ефективності алгоритму на текстових файлах різних розмірів:"
   ]
  },
  {
   "cell_type": "code",
   "execution_count": 17,
   "metadata": {},
   "outputs": [
    {
     "name": "stdout",
     "output_type": "stream",
     "text": [
      "The time used for encoding small text is 0.00035500526428222656, memory - 4.095754623413086 MB\n",
      "The time used for decoding small text is 0.30039000511169434, memory - 0.05941486358642578 MB\n",
      "The time used for encoding medium text is 0.0035390853881835938, memory - 0.08121204376220703 MB\n",
      "The time used for decoding medium text is 9.029640913009644, memory - 0.11035537719726562 MB\n",
      "The time used for encoding big text is 0.09978699684143066, memory - 2.188875198364258 MB\n",
      "The time used for decoding big text is 249.3862841129303, memory - 2.3940658569335938 MB\n"
     ]
    }
   ],
   "source": [
    "for text1 in [(small_text, 'small'), (medium_text, 'medium'), (big_text, 'big')]:\n",
    "    text, name = text1\n",
    "    tracemalloc.start()\n",
    "    encoded_result, encoding_time = measure_time(rcs.encrypt, text, public_key)\n",
    "    encoding_memory_usage = tracemalloc.get_traced_memory()[1] / (1024 ** 2)  # Переведення в мегабайти\n",
    "    tracemalloc.clear_traces()\n",
    "    tracemalloc.start()\n",
    "    decoded_result, decoding_time = measure_time(rcs.decrypt, encoded_result, *private_key, public_key)\n",
    "    decoding_memory_usage = tracemalloc.get_traced_memory()[1] / (1024 ** 2)  # Переведення в мегабайти\n",
    "    tracemalloc.clear_traces()\n",
    "    print(f\"The time used for encoding {name} text is {encoding_time}, memory - {encoding_memory_usage} MB\")\n",
    "    print(f\"The time used for decoding {name} text is {decoding_time}, memory - {decoding_memory_usage} MB\")"
   ]
  }
 ],
 "metadata": {
  "kernelspec": {
   "display_name": "Python 3",
   "language": "python",
   "name": "python3"
  },
  "language_info": {
   "codemirror_mode": {
    "name": "ipython",
    "version": 3
   },
   "file_extension": ".py",
   "mimetype": "text/x-python",
   "name": "python",
   "nbconvert_exporter": "python",
   "pygments_lexer": "ipython3",
   "version": "3.11.7"
  }
 },
 "nbformat": 4,
 "nbformat_minor": 2
}
