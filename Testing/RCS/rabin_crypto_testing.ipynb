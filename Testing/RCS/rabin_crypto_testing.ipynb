{
 "cells": [
  {
   "cell_type": "code",
   "execution_count": 18,
   "metadata": {},
   "outputs": [],
   "source": [
    "from RCS import RCS\n",
    "import time\n",
    "import tracemalloc"
   ]
  },
  {
   "cell_type": "code",
   "execution_count": 19,
   "metadata": {},
   "outputs": [],
   "source": [
    "def measure_time(func, *args):\n",
    "    start_time = time.time()\n",
    "    result = func(*args)\n",
    "    end_time = time.time()\n",
    "    execution_time = end_time - start_time\n",
    "    return result, execution_time"
   ]
  },
  {
   "cell_type": "code",
   "execution_count": 21,
   "metadata": {},
   "outputs": [
    {
     "name": "stdout",
     "output_type": "stream",
     "text": [
      "5609718849247594876379686285930316332537317217904702854032929294764489316220341842476919232392911967152760553988090953711071823417256570510727939261370251614432453619212902656408859815909354195004331410782369607412910163884584718344117477486278388873455579017533023417332332715352766533000458971159928158055223389108487914225783674809376759503955426192506147208839032050542287496373102264753067956151232685998373360198982582506069919268080436261291975880361289799325823872228219843668622686787843530027627376555897846074765146476799193505711024310972582576241880974046506881110020167610245271360697468318762270409873 (154302499003931760513755004726521864131290878650968005392657482506171416535202509387738280018517865401465788298170889167622057774478168393607805966065488082885319216343411435266000349299071737177204920361245864536892591427866886670657040452687064767426617227233642511252407124996769602895041239896616583881251, 36355333746763585537845219408619119595797111594713750771387521595288484873920502685925170115568398353430261449372753834320923315582894801844640484132974370246693476889345165623272320371096966681398547333034356383194432729624485531509732551180885408703121889035008982224838494527290044427802016301686603016123)\n",
      "The time used to generate keys: 7.163791656494141s\n",
      "The memory used to create keys: 3.353793144226074 MB\n"
     ]
    }
   ],
   "source": [
    "\n",
    "with open(\"zapovit.txt\", 'r', encoding=\"utf-8\") as file:\n",
    "    small_text = file.read()\n",
    "with open(\"kateryna.txt\", 'r', encoding=\"utf-8\") as file:\n",
    "    medium_text = file.read()\n",
    "with open(\"tygrolovy.txt\", 'r', encoding=\"utf-8\") as file:\n",
    "    big_text = file.read()\n",
    "\n",
    "\n",
    "\n",
    "rcs = RCS()\n",
    "tracemalloc.start()\n",
    "(n, p, q), time_used = measure_time(rcs.generate_keypair, 1024)\n",
    "memory_usage = tracemalloc.get_traced_memory()[1] / (1024 ** 2)\n",
    "tracemalloc.clear_traces()\n",
    "public_key = n\n",
    "private_key = (p, q)\n",
    "print(public_key, private_key)\n",
    "print(f'The time used to generate keys: {time_used}s')\n",
    "print(f'The memory used to create keys: {memory_usage} MB')\n"
   ]
  },
  {
   "cell_type": "markdown",
   "metadata": {},
   "source": [
    "Результати тестування ефективності алгоритму на текстових файлах різних розмірів:"
   ]
  },
  {
   "cell_type": "code",
   "execution_count": 22,
   "metadata": {},
   "outputs": [
    {
     "ename": "TypeError",
     "evalue": "unsupported operand type(s) for ** or pow(): 'str', 'int', 'int'",
     "output_type": "error",
     "traceback": [
      "\u001b[1;31m---------------------------------------------------------------------------\u001b[0m",
      "\u001b[1;31mTypeError\u001b[0m                                 Traceback (most recent call last)",
      "Cell \u001b[1;32mIn[22], line 4\u001b[0m\n\u001b[0;32m      2\u001b[0m text, name \u001b[38;5;241m=\u001b[39m text1\n\u001b[0;32m      3\u001b[0m tracemalloc\u001b[38;5;241m.\u001b[39mstart()\n\u001b[1;32m----> 4\u001b[0m encoded_result, encoding_time \u001b[38;5;241m=\u001b[39m \u001b[43mmeasure_time\u001b[49m\u001b[43m(\u001b[49m\u001b[43mrcs\u001b[49m\u001b[38;5;241;43m.\u001b[39;49m\u001b[43mencrypt\u001b[49m\u001b[43m,\u001b[49m\u001b[43m \u001b[49m\u001b[43mtext\u001b[49m\u001b[43m,\u001b[49m\u001b[43m \u001b[49m\u001b[43mpublic_key\u001b[49m\u001b[43m)\u001b[49m\n\u001b[0;32m      5\u001b[0m encoding_memory_usage \u001b[38;5;241m=\u001b[39m tracemalloc\u001b[38;5;241m.\u001b[39mget_traced_memory()[\u001b[38;5;241m1\u001b[39m] \u001b[38;5;241m/\u001b[39m (\u001b[38;5;241m1024\u001b[39m \u001b[38;5;241m*\u001b[39m\u001b[38;5;241m*\u001b[39m \u001b[38;5;241m2\u001b[39m)  \u001b[38;5;66;03m# Переведення в мегабайти\u001b[39;00m\n\u001b[0;32m      6\u001b[0m tracemalloc\u001b[38;5;241m.\u001b[39mclear_traces()\n",
      "Cell \u001b[1;32mIn[19], line 3\u001b[0m, in \u001b[0;36mmeasure_time\u001b[1;34m(func, *args)\u001b[0m\n\u001b[0;32m      1\u001b[0m \u001b[38;5;28;01mdef\u001b[39;00m \u001b[38;5;21mmeasure_time\u001b[39m(func, \u001b[38;5;241m*\u001b[39margs):\n\u001b[0;32m      2\u001b[0m     start_time \u001b[38;5;241m=\u001b[39m time\u001b[38;5;241m.\u001b[39mtime()\n\u001b[1;32m----> 3\u001b[0m     result \u001b[38;5;241m=\u001b[39m \u001b[43mfunc\u001b[49m\u001b[43m(\u001b[49m\u001b[38;5;241;43m*\u001b[39;49m\u001b[43margs\u001b[49m\u001b[43m)\u001b[49m\n\u001b[0;32m      4\u001b[0m     end_time \u001b[38;5;241m=\u001b[39m time\u001b[38;5;241m.\u001b[39mtime()\n\u001b[0;32m      5\u001b[0m     execution_time \u001b[38;5;241m=\u001b[39m end_time \u001b[38;5;241m-\u001b[39m start_time\n",
      "File \u001b[1;32md:\\Дискретна\\Комп'ютерний проект 2\\discrete-messenger\\Testing\\RCS\\RCS.py:90\u001b[0m, in \u001b[0;36mRCS.encrypt\u001b[1;34m(self, plaintext, n)\u001b[0m\n\u001b[0;32m     88\u001b[0m \u001b[38;5;28;01mdef\u001b[39;00m \u001b[38;5;21mencrypt\u001b[39m(\u001b[38;5;28mself\u001b[39m, plaintext, n):\n\u001b[0;32m     89\u001b[0m \u001b[38;5;250m    \u001b[39m\u001b[38;5;124;03m\"\"\"Encrypt plaintext using Rabin cryptosystem.\"\"\"\u001b[39;00m\n\u001b[1;32m---> 90\u001b[0m     text_to_bites \u001b[38;5;241m=\u001b[39m \u001b[38;5;28mself\u001b[39m\u001b[38;5;241m.\u001b[39mstring_to_big_number(plaintext)\n\u001b[0;32m     91\u001b[0m     ciphertext \u001b[38;5;241m=\u001b[39m \u001b[38;5;28mpow\u001b[39m(text_to_bites, \u001b[38;5;241m2\u001b[39m, n)\n\u001b[0;32m     92\u001b[0m     \u001b[38;5;28;01mreturn\u001b[39;00m ciphertext\n",
      "\u001b[1;31mTypeError\u001b[0m: unsupported operand type(s) for ** or pow(): 'str', 'int', 'int'"
     ]
    }
   ],
   "source": [
    "for text1 in [(small_text, 'small'), (medium_text, 'medium'), (big_text, 'big')]:\n",
    "    text, name = text1\n",
    "    tracemalloc.start()\n",
    "    encoded_result, encoding_time = measure_time(rcs.encrypt, text, public_key)\n",
    "    encoding_memory_usage = tracemalloc.get_traced_memory()[1] / (1024 ** 2)  # Переведення в мегабайти\n",
    "    tracemalloc.clear_traces()\n",
    "    tracemalloc.start()\n",
    "    decoded_result, decoding_time = measure_time(rcs.decrypt, encoded_result, *private_key, public_key)\n",
    "    decoding_memory_usage = tracemalloc.get_traced_memory()[1] / (1024 ** 2)  # Переведення в мегабайти\n",
    "    tracemalloc.clear_traces()\n",
    "    print(f\"Correctness: {text == decoded_result}\")\n",
    "    print(f\"The time used for encoding {name} text is {encoding_time}, memory - {encoding_memory_usage} MB\")\n",
    "    print(f\"The time used for decoding {name} text is {decoding_time}, memory - {decoding_memory_usage} MB\")"
   ]
  }
 ],
 "metadata": {
  "kernelspec": {
   "display_name": "Python 3",
   "language": "python",
   "name": "python3"
  },
  "language_info": {
   "codemirror_mode": {
    "name": "ipython",
    "version": 3
   },
   "file_extension": ".py",
   "mimetype": "text/x-python",
   "name": "python",
   "nbconvert_exporter": "python",
   "pygments_lexer": "ipython3",
   "version": "3.11.5"
  }
 },
 "nbformat": 4,
 "nbformat_minor": 2
}
