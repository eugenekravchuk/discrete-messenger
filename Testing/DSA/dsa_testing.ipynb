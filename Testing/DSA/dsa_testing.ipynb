{
 "cells": [
  {
   "cell_type": "code",
   "execution_count": 7,
   "metadata": {},
   "outputs": [],
   "source": [
    "from dsa_algorithm import DSA\n",
    "import time\n",
    "import tracemalloc"
   ]
  },
  {
   "cell_type": "code",
   "execution_count": 8,
   "metadata": {},
   "outputs": [],
   "source": [
    "def measure_time(func, *args):\n",
    "    start_time = time.time()\n",
    "    result = func(*args)\n",
    "    end_time = time.time()\n",
    "    execution_time = end_time - start_time\n",
    "    return result, execution_time"
   ]
  },
  {
   "cell_type": "code",
   "execution_count": 10,
   "metadata": {},
   "outputs": [
    {
     "name": "stdout",
     "output_type": "stream",
     "text": [
      "(185237389825454480480120801726550727033013578285069518817536413487305558887441292643109356211566521093998489334188445834745966632908002594933406571029397891552426725955387357, 1350904567568288494338757365152529376133394813707, 166352149851933846759574554619835602315696382691276195576994939866939543087840715472974203312333160631407542861210194589080904316991938602174283848611306174010954008033102259, 158749425621469222415596357750432700989344243681189771635853276001706549677847281344585365037754445712883675865753695391314873741571712088903451679515979317501535265375483298) 1039396940485581689712426404839782539266531126581\n",
      "The time used to generate keys: 28.876594066619873s\n",
      "The memory used to create keys: 3.3495874404907227 MB\n"
     ]
    }
   ],
   "source": [
    "with open(\"zapovit.txt\", 'r', encoding=\"utf-8\") as file:\n",
    "    small_text = file.read()\n",
    "with open(\"kateryna.txt\", 'r', encoding=\"utf-8\") as file:\n",
    "    medium_text = file.read()\n",
    "with open(\"tygrolovy.txt\", 'r', encoding=\"utf-8\") as file:\n",
    "    big_text = file.read()\n",
    "\n",
    "\n",
    "\n",
    "dsa = DSA()\n",
    "tracemalloc.start()\n",
    "(public_key, private_key), time_used = measure_time(dsa.generate_key)\n",
    "memory_usage = tracemalloc.get_traced_memory()[1] / (1024 ** 2)\n",
    "tracemalloc.clear_traces()\n",
    "print(public_key, private_key)\n",
    "print(f'The time used to generate keys: {time_used}s')\n",
    "print(f'The memory used to create keys: {memory_usage} MB')"
   ]
  },
  {
   "cell_type": "markdown",
   "metadata": {},
   "source": [
    "Список зі зміненими текстами, щоб перевірити алгоритм."
   ]
  },
  {
   "cell_type": "code",
   "execution_count": 20,
   "metadata": {},
   "outputs": [],
   "source": [
    "changed = [small_text + '&', medium_text + 'і', big_text + '  ']"
   ]
  },
  {
   "cell_type": "markdown",
   "metadata": {},
   "source": [
    "Тестування ефективності алгоритму на повідомленнях різної довжини."
   ]
  },
  {
   "cell_type": "code",
   "execution_count": 22,
   "metadata": {},
   "outputs": [
    {
     "name": "stdout",
     "output_type": "stream",
     "text": [
      "Correctness: \n",
      "Answer for right text is True\n",
      "Answer for changed text is False\n",
      "The time used for creating signature for small text is 0.0, memory - 0.1490955352783203 MB\n",
      "The time used for verification of small text is 0.0034933090209960938, memory - 0.0015292167663574219 MB\n",
      "Correctness: \n",
      "Answer for right text is True\n",
      "Answer for changed text is False\n",
      "The time used for creating signature for medium text is 0.0020055770874023438, memory - 0.04997825622558594 MB\n",
      "The time used for verification of medium text is 0.002523183822631836, memory - 0.04906797409057617 MB\n",
      "Correctness: \n",
      "Answer for right text is True\n",
      "Answer for changed text is False\n",
      "The time used for creating signature for big text is 0.0029621124267578125, memory - 1.3632802963256836 MB\n",
      "The time used for verification of big text is 0.002604365348815918, memory - 1.3626508712768555 MB\n"
     ]
    }
   ],
   "source": [
    "for i, text1 in enumerate([(small_text, 'small'), (medium_text, 'medium'), (big_text, 'big')]):\n",
    "    text, name = text1\n",
    "    tracemalloc.start()\n",
    "    signature, encoding_time = measure_time(dsa.sign, text, public_key, private_key)\n",
    "    encoding_memory_usage = tracemalloc.get_traced_memory()[1] / (1024 ** 2)  # Переведення в мегабайти\n",
    "    tracemalloc.clear_traces()\n",
    "    tracemalloc.start()\n",
    "    right_answer, verification_time = measure_time(dsa.verification, text, public_key, signature)\n",
    "    decoding_memory_usage = tracemalloc.get_traced_memory()[1] / (1024 ** 2)  # Переведення в мегабайти\n",
    "    tracemalloc.clear_traces()\n",
    "    tracemalloc.start()\n",
    "    answer, verification_time2 = measure_time(dsa.verification, changed[i], public_key, signature)\n",
    "    decoding_memory_usage2 = tracemalloc.get_traced_memory()[1] / (1024 ** 2)  # Переведення в мегабайти\n",
    "    tracemalloc.clear_traces()\n",
    "    print(f\"Correctness: \\nAnswer for right text is {right_answer}\\nAnswer for changed text is {answer}\")\n",
    "    print(f\"The time used for creating signature for {name} text is {encoding_time}, memory - {encoding_memory_usage} MB\")\n",
    "    print(f\"The time used for verification of {name} text is {(verification_time+verification_time2)/2}, memory - {(decoding_memory_usage+decoding_memory_usage2)/2} MB\")"
   ]
  },
  {
   "cell_type": "markdown",
   "metadata": {},
   "source": []
  },
  {
   "cell_type": "code",
   "execution_count": 16,
   "metadata": {},
   "outputs": [],
   "source": [
    "from encode_photo import encode_image_to_base64\n",
    "from decode_photo import decode_base64_file_to_image\n",
    "\n",
    "small_photo_encoded = encode_image_to_base64('very_small_image.jpeg')\n",
    "large_photo_encoded = encode_image_to_base64('photo.jpg')"
   ]
  },
  {
   "cell_type": "code",
   "execution_count": 23,
   "metadata": {},
   "outputs": [],
   "source": [
    "changed = [small_photo_encoded + '8', large_photo_encoded + 'w']"
   ]
  },
  {
   "cell_type": "code",
   "execution_count": 25,
   "metadata": {},
   "outputs": [
    {
     "name": "stdout",
     "output_type": "stream",
     "text": [
      "Correctness: \n",
      "Answer for right text is True\n",
      "Answer for changed text is False\n",
      "The time used for creating signature for small text is 0.001230478286743164, memory - 0.1503610610961914 MB\n",
      "The time used for verification of small text is 0.0, memory - 0.048146724700927734 MB\n",
      "Correctness: \n",
      "Answer for right text is True\n",
      "Answer for changed text is False\n",
      "The time used for creating signature for medium text is 0.0, memory - 0.21246910095214844 MB\n",
      "The time used for verification of medium text is 0.007195234298706055, memory - 0.20976495742797852 MB\n"
     ]
    }
   ],
   "source": [
    "for i, text1 in enumerate([(small_photo_encoded, 'small'), (large_photo_encoded, 'medium')]):\n",
    "    text, name = text1\n",
    "    tracemalloc.start()\n",
    "    signature, encoding_time = measure_time(dsa.sign, text, public_key, private_key)\n",
    "    encoding_memory_usage = tracemalloc.get_traced_memory()[1] / (1024 ** 2)  # Переведення в мегабайти\n",
    "    tracemalloc.clear_traces()\n",
    "    tracemalloc.start()\n",
    "    right_answer, verification_time = measure_time(dsa.verification, text, public_key, signature)\n",
    "    decoding_memory_usage = tracemalloc.get_traced_memory()[1] / (1024 ** 2)  # Переведення в мегабайти\n",
    "    tracemalloc.clear_traces()\n",
    "    tracemalloc.start()\n",
    "    answer, verification_time2 = measure_time(dsa.verification, changed[i], public_key, signature)\n",
    "    decoding_memory_usage2 = tracemalloc.get_traced_memory()[1] / (1024 ** 2)  # Переведення в мегабайти\n",
    "    tracemalloc.clear_traces()\n",
    "    print(f\"Correctness: \\nAnswer for right text is {right_answer}\\nAnswer for changed text is {answer}\")\n",
    "    print(f\"The time used for creating signature for {name} text is {encoding_time}, memory - {encoding_memory_usage} MB\")\n",
    "    print(f\"The time used for verification of {name} text is {(verification_time+verification_time2)/2}, memory - {(decoding_memory_usage+decoding_memory_usage2)/2} MB\")"
   ]
  }
 ],
 "metadata": {
  "kernelspec": {
   "display_name": "Python 3",
   "language": "python",
   "name": "python3"
  },
  "language_info": {
   "codemirror_mode": {
    "name": "ipython",
    "version": 3
   },
   "file_extension": ".py",
   "mimetype": "text/x-python",
   "name": "python",
   "nbconvert_exporter": "python",
   "pygments_lexer": "ipython3",
   "version": "3.11.5"
  }
 },
 "nbformat": 4,
 "nbformat_minor": 2
}
